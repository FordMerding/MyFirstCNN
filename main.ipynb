{
 "cells": [
  {
   "cell_type": "code",
   "execution_count": 1,
   "metadata": {},
   "outputs": [],
   "source": [
    "import torch\n",
    "import torch.nn as nn\n",
    "import matplotlib\n",
    "from torch.utils.data import DataLoader\n",
    "import dataloader as dl\n",
    "import network"
   ]
  },
  {
   "cell_type": "code",
   "execution_count": 2,
   "metadata": {},
   "outputs": [
    {
     "name": "stdout",
     "output_type": "stream",
     "text": [
      "Using cpu device\n"
     ]
    }
   ],
   "source": [
    "device = (\n",
    "    \"cuda\"\n",
    "    if torch.cuda.is_available()\n",
    "    else \"mps\"\n",
    "    if torch.backends.mps.is_available()\n",
    "    else \"cpu\"\n",
    ")\n",
    "print(f\"Using {device} device\")"
   ]
  },
  {
   "cell_type": "code",
   "execution_count": 3,
   "metadata": {},
   "outputs": [],
   "source": [
    "train_dataset = dl.KMNIST('./data/', True)\n",
    "test_dataset = dl.KMNIST('./data/', False)\n",
    "\n",
    "train_data = DataLoader(train_dataset, 64, True)\n",
    "test_data = DataLoader(test_dataset, 64)"
   ]
  },
  {
   "cell_type": "code",
   "execution_count": 4,
   "metadata": {},
   "outputs": [],
   "source": [
    "model = network.LeNet(1, 10).to(device)"
   ]
  },
  {
   "cell_type": "code",
   "execution_count": 5,
   "metadata": {},
   "outputs": [],
   "source": [
    "loss_fn = nn.NLLLoss()\n",
    "optimizer = torch.optim.Adagrad(model.parameters(), 1e-2)"
   ]
  },
  {
   "cell_type": "code",
   "execution_count": 6,
   "metadata": {},
   "outputs": [],
   "source": [
    "def train(data, model, loss_fn, optimizer):\n",
    "    model.train()\n",
    "    train_loss = 0\n",
    "    for batch, (X, y) in enumerate(data):\n",
    "        X, y = X.to(device), y.to(device)\n",
    "        pred = model(X)\n",
    "        loss = loss_fn(pred, y)\n",
    "        train_loss += loss\n",
    "        loss.backward()\n",
    "        optimizer.step()\n",
    "        optimizer.zero_grad()\n",
    "    train_loss = train_loss/len(data)\n",
    "    print(f\"Epoch was completed! Avg loss: {train_loss:>8f}\")"
   ]
  },
  {
   "cell_type": "code",
   "execution_count": 7,
   "metadata": {},
   "outputs": [],
   "source": [
    "def test(data, model, loss_fn):\n",
    "    model.eval()\n",
    "    correct = 0\n",
    "    test_loss = 0\n",
    "    with torch.no_grad():\n",
    "        for (X, y) in data:\n",
    "            pred = model(X)\n",
    "            test_loss += loss_fn(pred, y)\n",
    "            correct += (pred.argmax(1) == y).type(torch.float).sum().item()\n",
    "    test_loss /= len(data)\n",
    "    correct /= len(data.dataset)\n",
    "    print(f\"Test Error:\\n Accuracy: {(100*correct):>4f}%. Avg loss: {test_loss:>8f}\")"
   ]
  },
  {
   "cell_type": "code",
   "execution_count": 8,
   "metadata": {},
   "outputs": [
    {
     "name": "stdout",
     "output_type": "stream",
     "text": [
      "Epoch 1 is starting!\n",
      "Epoch was completed! Avg loss: 1.322644\n",
      "Test Error:\n",
      " Accuracy: 85.330000%. Avg loss: 0.523346\n",
      "Epoch 2 is starting!\n",
      "Epoch was completed! Avg loss: 0.144912\n",
      "Test Error:\n",
      " Accuracy: 89.380000%. Avg loss: 0.395908\n",
      "Epoch 3 is starting!\n",
      "Epoch was completed! Avg loss: 0.087848\n",
      "Test Error:\n",
      " Accuracy: 90.840000%. Avg loss: 0.345439\n",
      "Epoch 4 is starting!\n",
      "Epoch was completed! Avg loss: 0.059516\n",
      "Test Error:\n",
      " Accuracy: 91.100000%. Avg loss: 0.343190\n",
      "Epoch 5 is starting!\n",
      "Epoch was completed! Avg loss: 0.040660\n",
      "Test Error:\n",
      " Accuracy: 91.930000%. Avg loss: 0.319676\n",
      "Epoch 6 is starting!\n",
      "Epoch was completed! Avg loss: 0.028552\n",
      "Test Error:\n",
      " Accuracy: 91.820000%. Avg loss: 0.336711\n",
      "Epoch 7 is starting!\n",
      "Epoch was completed! Avg loss: 0.019578\n",
      "Test Error:\n",
      " Accuracy: 92.350000%. Avg loss: 0.332820\n",
      "Epoch 8 is starting!\n",
      "Epoch was completed! Avg loss: 0.013495\n",
      "Test Error:\n",
      " Accuracy: 92.470000%. Avg loss: 0.333104\n",
      "Epoch 9 is starting!\n",
      "Epoch was completed! Avg loss: 0.009260\n",
      "Test Error:\n",
      " Accuracy: 92.690000%. Avg loss: 0.334804\n",
      "Epoch 10 is starting!\n",
      "Epoch was completed! Avg loss: 0.006775\n",
      "Test Error:\n",
      " Accuracy: 92.540000%. Avg loss: 0.344073\n"
     ]
    }
   ],
   "source": [
    "epochs = 10\n",
    "for epoch in range(epochs):\n",
    "    print(f\"Epoch {epoch+1} is starting!\")\n",
    "    train(train_data, model, loss_fn, optimizer)\n",
    "    test(test_data, model, loss_fn)"
   ]
  }
 ],
 "metadata": {
  "kernelspec": {
   "display_name": "Python 3",
   "language": "python",
   "name": "python3"
  },
  "language_info": {
   "codemirror_mode": {
    "name": "ipython",
    "version": 3
   },
   "file_extension": ".py",
   "mimetype": "text/x-python",
   "name": "python",
   "nbconvert_exporter": "python",
   "pygments_lexer": "ipython3",
   "version": "3.12.3"
  }
 },
 "nbformat": 4,
 "nbformat_minor": 2
}
